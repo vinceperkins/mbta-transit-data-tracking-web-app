{
 "cells": [
  {
   "cell_type": "markdown",
   "id": "68da75b8",
   "metadata": {},
   "source": [
    "<h1>Module 16 Project - Vincent Perkins</h1>"
   ]
  },
  {
   "cell_type": "markdown",
   "id": "e5ebffee",
   "metadata": {},
   "source": [
    "Use the code below to help you analyze the data returned by the MBTA API:"
   ]
  },
  {
   "cell_type": "code",
   "execution_count": 207,
   "id": "abd19a57",
   "metadata": {},
   "outputs": [
    {
     "name": "stdout",
     "output_type": "stream",
     "text": [
      "{\n",
      "    \"data\": [],\n",
      "    \"jsonapi\": {\n",
      "        \"version\": \"1.0\"\n",
      "    }\n",
      "}\n"
     ]
    }
   ],
   "source": [
    "mbtaURL = \"https://api-v3.mbta.com/vehicles?filter[route]=1&include=trip\"\n",
    "\n",
    "import urllib.request, json\n",
    "with urllib.request.urlopen(mbtaURL) as url:\n",
    "    data = json.loads(url.read().decode())\n",
    "   \n",
    "    with open('data.json', 'w') as outfile:\n",
    "        json.dump(data, outfile)\n",
    "   \n",
    "    with open('data.txt', 'w') as outfile:\n",
    "        json.dump(json.dumps(data, indent=4, sort_keys=True), outfile)\n",
    "       \n",
    "    print(json.dumps(data, indent=4, sort_keys=True))\n"
   ]
  },
  {
   "cell_type": "markdown",
   "id": "d46c6b63",
   "metadata": {},
   "source": [
    "Use the code below to read the data from your MySQL database and store it in a pandas dataframe.  \n",
    "\n",
    "You you need to install pymysql to run the code:\n",
    "\n",
    "pip install pymysql"
   ]
  },
  {
   "cell_type": "code",
   "execution_count": 208,
   "id": "70d14e5a",
   "metadata": {},
   "outputs": [
    {
     "data": {
      "text/html": [
       "<div>\n",
       "<style scoped>\n",
       "    .dataframe tbody tr th:only-of-type {\n",
       "        vertical-align: middle;\n",
       "    }\n",
       "\n",
       "    .dataframe tbody tr th {\n",
       "        vertical-align: top;\n",
       "    }\n",
       "\n",
       "    .dataframe thead th {\n",
       "        text-align: right;\n",
       "    }\n",
       "</style>\n",
       "<table border=\"1\" class=\"dataframe\">\n",
       "  <thead>\n",
       "    <tr style=\"text-align: right;\">\n",
       "      <th></th>\n",
       "      <th>record_num</th>\n",
       "      <th>id</th>\n",
       "      <th>latitude</th>\n",
       "      <th>longitude</th>\n",
       "      <th>label</th>\n",
       "      <th>current_status</th>\n",
       "      <th>current_stop_sequence</th>\n",
       "      <th>occupancy_status</th>\n",
       "      <th>speed</th>\n",
       "      <th>updated_at</th>\n",
       "      <th>direction_id</th>\n",
       "    </tr>\n",
       "  </thead>\n",
       "  <tbody>\n",
       "    <tr>\n",
       "      <th>20424</th>\n",
       "      <td>20425</td>\n",
       "      <td>y1892</td>\n",
       "      <td>42.372950</td>\n",
       "      <td>-71.119099</td>\n",
       "      <td>1892</td>\n",
       "      <td>IN_TRANSIT_TO</td>\n",
       "      <td>2.0</td>\n",
       "      <td>MANY_SEATS_AVAILABLE</td>\n",
       "      <td>None</td>\n",
       "      <td>2022-05-29T18:51:15-04:00</td>\n",
       "      <td>1</td>\n",
       "    </tr>\n",
       "    <tr>\n",
       "      <th>20425</th>\n",
       "      <td>20426</td>\n",
       "      <td>y1862</td>\n",
       "      <td>42.373036</td>\n",
       "      <td>-71.117338</td>\n",
       "      <td>1862</td>\n",
       "      <td>IN_TRANSIT_TO</td>\n",
       "      <td>1.0</td>\n",
       "      <td>MANY_SEATS_AVAILABLE</td>\n",
       "      <td>None</td>\n",
       "      <td>2022-05-29T18:49:41-04:00</td>\n",
       "      <td>0</td>\n",
       "    </tr>\n",
       "    <tr>\n",
       "      <th>20426</th>\n",
       "      <td>20427</td>\n",
       "      <td>y1803</td>\n",
       "      <td>42.331351</td>\n",
       "      <td>-71.077217</td>\n",
       "      <td>1803</td>\n",
       "      <td>IN_TRANSIT_TO</td>\n",
       "      <td>5.0</td>\n",
       "      <td>MANY_SEATS_AVAILABLE</td>\n",
       "      <td>None</td>\n",
       "      <td>2022-05-29T18:51:09-04:00</td>\n",
       "      <td>0</td>\n",
       "    </tr>\n",
       "    <tr>\n",
       "      <th>20427</th>\n",
       "      <td>20428</td>\n",
       "      <td>y1788</td>\n",
       "      <td>42.329800</td>\n",
       "      <td>-71.083730</td>\n",
       "      <td>1788</td>\n",
       "      <td>IN_TRANSIT_TO</td>\n",
       "      <td>1.0</td>\n",
       "      <td>MANY_SEATS_AVAILABLE</td>\n",
       "      <td>None</td>\n",
       "      <td>2022-05-29T18:50:51-04:00</td>\n",
       "      <td>1</td>\n",
       "    </tr>\n",
       "    <tr>\n",
       "      <th>20428</th>\n",
       "      <td>20429</td>\n",
       "      <td>y1897</td>\n",
       "      <td>42.350701</td>\n",
       "      <td>-71.089439</td>\n",
       "      <td>1897</td>\n",
       "      <td>IN_TRANSIT_TO</td>\n",
       "      <td>14.0</td>\n",
       "      <td>FEW_SEATS_AVAILABLE</td>\n",
       "      <td>None</td>\n",
       "      <td>2022-05-29T18:51:21-04:00</td>\n",
       "      <td>0</td>\n",
       "    </tr>\n",
       "    <tr>\n",
       "      <th>20429</th>\n",
       "      <td>20430</td>\n",
       "      <td>y1894</td>\n",
       "      <td>42.357454</td>\n",
       "      <td>-71.092778</td>\n",
       "      <td>1894</td>\n",
       "      <td>IN_TRANSIT_TO</td>\n",
       "      <td>11.0</td>\n",
       "      <td>FEW_SEATS_AVAILABLE</td>\n",
       "      <td>None</td>\n",
       "      <td>2022-05-29T18:51:18-04:00</td>\n",
       "      <td>1</td>\n",
       "    </tr>\n",
       "    <tr>\n",
       "      <th>20430</th>\n",
       "      <td>20431</td>\n",
       "      <td>y1892</td>\n",
       "      <td>42.372681</td>\n",
       "      <td>-71.119173</td>\n",
       "      <td>1892</td>\n",
       "      <td>IN_TRANSIT_TO</td>\n",
       "      <td>2.0</td>\n",
       "      <td>MANY_SEATS_AVAILABLE</td>\n",
       "      <td>None</td>\n",
       "      <td>2022-05-29T18:51:23-04:00</td>\n",
       "      <td>1</td>\n",
       "    </tr>\n",
       "    <tr>\n",
       "      <th>20431</th>\n",
       "      <td>20432</td>\n",
       "      <td>y1862</td>\n",
       "      <td>42.373036</td>\n",
       "      <td>-71.117338</td>\n",
       "      <td>1862</td>\n",
       "      <td>IN_TRANSIT_TO</td>\n",
       "      <td>1.0</td>\n",
       "      <td>MANY_SEATS_AVAILABLE</td>\n",
       "      <td>None</td>\n",
       "      <td>2022-05-29T18:49:41-04:00</td>\n",
       "      <td>0</td>\n",
       "    </tr>\n",
       "    <tr>\n",
       "      <th>20432</th>\n",
       "      <td>20433</td>\n",
       "      <td>y1803</td>\n",
       "      <td>42.331345</td>\n",
       "      <td>-71.077239</td>\n",
       "      <td>1803</td>\n",
       "      <td>IN_TRANSIT_TO</td>\n",
       "      <td>5.0</td>\n",
       "      <td>MANY_SEATS_AVAILABLE</td>\n",
       "      <td>None</td>\n",
       "      <td>2022-05-29T18:51:20-04:00</td>\n",
       "      <td>0</td>\n",
       "    </tr>\n",
       "    <tr>\n",
       "      <th>20433</th>\n",
       "      <td>20434</td>\n",
       "      <td>y1788</td>\n",
       "      <td>42.329800</td>\n",
       "      <td>-71.083730</td>\n",
       "      <td>1788</td>\n",
       "      <td>IN_TRANSIT_TO</td>\n",
       "      <td>1.0</td>\n",
       "      <td>MANY_SEATS_AVAILABLE</td>\n",
       "      <td>None</td>\n",
       "      <td>2022-05-29T18:50:51-04:00</td>\n",
       "      <td>1</td>\n",
       "    </tr>\n",
       "  </tbody>\n",
       "</table>\n",
       "</div>"
      ],
      "text/plain": [
       "       record_num     id   latitude  longitude label current_status  \\\n",
       "20424       20425  y1892  42.372950 -71.119099  1892  IN_TRANSIT_TO   \n",
       "20425       20426  y1862  42.373036 -71.117338  1862  IN_TRANSIT_TO   \n",
       "20426       20427  y1803  42.331351 -71.077217  1803  IN_TRANSIT_TO   \n",
       "20427       20428  y1788  42.329800 -71.083730  1788  IN_TRANSIT_TO   \n",
       "20428       20429  y1897  42.350701 -71.089439  1897  IN_TRANSIT_TO   \n",
       "20429       20430  y1894  42.357454 -71.092778  1894  IN_TRANSIT_TO   \n",
       "20430       20431  y1892  42.372681 -71.119173  1892  IN_TRANSIT_TO   \n",
       "20431       20432  y1862  42.373036 -71.117338  1862  IN_TRANSIT_TO   \n",
       "20432       20433  y1803  42.331345 -71.077239  1803  IN_TRANSIT_TO   \n",
       "20433       20434  y1788  42.329800 -71.083730  1788  IN_TRANSIT_TO   \n",
       "\n",
       "       current_stop_sequence      occupancy_status speed  \\\n",
       "20424                    2.0  MANY_SEATS_AVAILABLE  None   \n",
       "20425                    1.0  MANY_SEATS_AVAILABLE  None   \n",
       "20426                    5.0  MANY_SEATS_AVAILABLE  None   \n",
       "20427                    1.0  MANY_SEATS_AVAILABLE  None   \n",
       "20428                   14.0   FEW_SEATS_AVAILABLE  None   \n",
       "20429                   11.0   FEW_SEATS_AVAILABLE  None   \n",
       "20430                    2.0  MANY_SEATS_AVAILABLE  None   \n",
       "20431                    1.0  MANY_SEATS_AVAILABLE  None   \n",
       "20432                    5.0  MANY_SEATS_AVAILABLE  None   \n",
       "20433                    1.0  MANY_SEATS_AVAILABLE  None   \n",
       "\n",
       "                      updated_at  direction_id  \n",
       "20424  2022-05-29T18:51:15-04:00             1  \n",
       "20425  2022-05-29T18:49:41-04:00             0  \n",
       "20426  2022-05-29T18:51:09-04:00             0  \n",
       "20427  2022-05-29T18:50:51-04:00             1  \n",
       "20428  2022-05-29T18:51:21-04:00             0  \n",
       "20429  2022-05-29T18:51:18-04:00             1  \n",
       "20430  2022-05-29T18:51:23-04:00             1  \n",
       "20431  2022-05-29T18:49:41-04:00             0  \n",
       "20432  2022-05-29T18:51:20-04:00             0  \n",
       "20433  2022-05-29T18:50:51-04:00             1  "
      ]
     },
     "execution_count": 208,
     "metadata": {},
     "output_type": "execute_result"
    }
   ],
   "source": [
    "import os\n",
    "import pymysql\n",
    "import pandas as pd\n",
    "\n",
    "\n",
    "host = '127.0.0.1' \n",
    "port = '3306'\n",
    "user = 'localhost'\n",
    "password = 'JarvinDB'\n",
    "database = 'MBTAdb'\n",
    "\n",
    "conn = pymysql.connect(\n",
    "    host=host,\n",
    "    port=int(3300),\n",
    "    user=\"root\",\n",
    "    passwd=password,\n",
    "    db=database,\n",
    "    charset='utf8mb4')\n",
    "\n",
    "df = pd.read_sql_query(\"SELECT * FROM mbta_buses\",\n",
    "    conn)\n",
    "\n",
    "df.tail(10)"
   ]
  },
  {
   "cell_type": "markdown",
   "id": "07d29ae0",
   "metadata": {},
   "source": [
    "\n",
    "The code below saves the data as a csv file to the local directory as a backup."
   ]
  },
  {
   "cell_type": "code",
   "execution_count": 209,
   "id": "d587ea03",
   "metadata": {},
   "outputs": [],
   "source": [
    "\n",
    "df.to_csv('mbta.csv')"
   ]
  },
  {
   "cell_type": "markdown",
   "id": "ae484f5d",
   "metadata": {},
   "source": [
    "<h1>What is the average time it takes for a bus to complete the route</h1>"
   ]
  },
  {
   "cell_type": "markdown",
   "id": "82c0b8cd",
   "metadata": {},
   "source": [
    "In reveiwing the mbta.csv file, there are 24 total stops recorded on route 1. We will calculate the total time to complete the route by subtracting time stamps of the first and last stops for each bus in a single day. "
   ]
  },
  {
   "cell_type": "code",
   "execution_count": 210,
   "id": "a56a9785",
   "metadata": {},
   "outputs": [
    {
     "data": {
      "text/plain": [
       "array(['1892', '1860', '1803', '1788', '1894', '1903', '1834', '1897',\n",
       "       '1751', '1862'], dtype=object)"
      ]
     },
     "execution_count": 210,
     "metadata": {},
     "output_type": "execute_result"
    }
   ],
   "source": [
    "#get the data from only one day and create a list of buses\n",
    "df_1_day = df[df['updated_at'].str.startswith('2022-05-29')]\n",
    "bus_list = df_1_day['label'].unique()\n",
    "bus_list"
   ]
  },
  {
   "cell_type": "code",
   "execution_count": 211,
   "id": "79e3e0ca",
   "metadata": {},
   "outputs": [
    {
     "name": "stdout",
     "output_type": "stream",
     "text": [
      "{'1892': datetime.timedelta(0, 2644), '1860': datetime.timedelta(0, 1382), '1803': datetime.timedelta(0, 2267), '1788': datetime.timedelta(0, 1384), '1894': datetime.timedelta(0, 2402), '1903': datetime.timedelta(0, 5605), '1834': datetime.timedelta(0, 2860), '1897': datetime.timedelta(0, 2563)}\n"
     ]
    }
   ],
   "source": [
    "#Bus is initially recorded at stop n, so we must find the next timestamp that reads n, \n",
    "#after the bus has moved from the initial stop.\n",
    "from datetime import datetime\n",
    "\n",
    "def find_route_times(): #Loops though data to find when the bus reaches stop \"first_seq\" again (\"first_seq\" dependes on where the bus starded)\n",
    "    bus_times_dict = {}\n",
    "    for i in range(0,len(bus_list)):    \n",
    "        cur_bus = df_1_day[df_1_day['label'] == bus_list[i]] #get data for only one bus label\n",
    "        seq_series = cur_bus['current_stop_sequence'] #get stop sequence data for certain bus\n",
    "        first_seq = seq_series.iloc[0]\n",
    "        first_rec_stop = cur_bus['updated_at'].iloc[0]\n",
    "        next = False #variable to indicate if bus has reached the next stop number\n",
    "        for j in range(0, len(seq_series)):\n",
    "            if seq_series.iloc[j] != first_seq: \n",
    "                next = True\n",
    "                #print(bus_list[i], j)\n",
    "            if seq_series.iloc[j] == first_seq and next == True: #This criteria excludes buses that did not traverse the full route\n",
    "                #print(f\"{bus_list[i]}, Full route index loc: {j}\")\n",
    "                last_rec_stop = cur_bus['updated_at'].iloc[j]\n",
    "                #We populate a dictionary with the difference in times between the first stop recorded and time of stop made once reaching that sequence again\n",
    "                bus_times_dict[bus_list[i]] = \\\n",
    "                    datetime.strptime(last_rec_stop, '%Y-%m-%dT%H:%M:%S-04:00') -\\\n",
    "                    datetime.strptime(first_rec_stop, '%Y-%m-%dT%H:%M:%S-04:00')\n",
    "                break \n",
    "    return bus_times_dict\n",
    "\n",
    "route_times = find_route_times()\n",
    "print(route_times) #Show route times for each bus\n"
   ]
  },
  {
   "cell_type": "code",
   "execution_count": 212,
   "id": "a8514f67",
   "metadata": {},
   "outputs": [
    {
     "name": "stdout",
     "output_type": "stream",
     "text": [
      "The average time to complete route 1 is: 43.97291666666667 minutes.\n"
     ]
    }
   ],
   "source": [
    "#Calculating Average Overall Time for route\n",
    "from datetime import timedelta\n",
    "route_times_values = pd.Series(list(route_times.values()), index = route_times.keys())\n",
    "mean_time = route_times_values.mean() \n",
    "print(f\"The average time to complete route 1 is: {(mean_time / timedelta(minutes=1))} minutes.\")"
   ]
  },
  {
   "cell_type": "markdown",
   "id": "019493b9",
   "metadata": {},
   "source": [
    "<h1>Provide a Visualization based on the data</h1>"
   ]
  },
  {
   "cell_type": "code",
   "execution_count": 213,
   "id": "c2726924",
   "metadata": {},
   "outputs": [
    {
     "data": {
      "image/png": "[encoded data removed]",
      "text/plain": [
       "<Figure size 432x288 with 1 Axes>"
      ]
     },
     "metadata": {
      "needs_background": "light"
     },
     "output_type": "display_data"
    }
   ],
   "source": [
    "import matplotlib.pyplot as plt\n",
    "import numpy as np\n",
    "route_times_float = route_times_values / timedelta(minutes=1)\n",
    "bus_list_r = list(route_times.keys())\n",
    "#times = list(route_times.values())\n",
    "plt.bar(bus_list_r, route_times_float)\n",
    "plt.title('Minutes to Complete Route 1')\n",
    "plt.xlabel('Bus Label')\n",
    "plt.ylabel('Minutes')\n",
    "plt.show()"
   ]
  },
  {
   "cell_type": "markdown",
   "id": "1499d640",
   "metadata": {},
   "source": [
    "<h1>Give an estimate of the speed of the bus from current_stop_sequence = 1 to the last  current_stop_sequence. </h1> \n",
    "\n",
    "Note: You can use the haversine Python library to calculate the distance between two points, given two longitude and latitude coordinates."
   ]
  },
  {
   "cell_type": "code",
   "execution_count": 214,
   "id": "5a13ab89",
   "metadata": {},
   "outputs": [
    {
     "name": "stdout",
     "output_type": "stream",
     "text": [
      "The estimated route speed for bus 1903 was 3.845633576401702 km/h\n"
     ]
    }
   ],
   "source": [
    "#Bus 1903 started on stop 1 on 05-29-2022. We will calculate it's speed.\n",
    "\n",
    "from haversine import haversine\n",
    "def route_end_index(): #Loops though data to find when the bus reaches stop \"first_seq\" again. \n",
    "    route_end_dict = {}\n",
    "    for i in range(0,len(bus_list)):    \n",
    "        cur_bus = df_1_day[df_1_day['label'] == bus_list[i]] #get data for only one bus label\n",
    "        seq_series = cur_bus['current_stop_sequence'] #get stop sequence data for certain bus\n",
    "        first_seq = seq_series.iloc[0]\n",
    "        first_rec_stop = cur_bus['updated_at'].iloc[0]\n",
    "        next = False #variable to indicate if bus has reached the next stop number\n",
    "        for j in range(0, len(seq_series)):\n",
    "            if seq_series.iloc[j] != first_seq: \n",
    "                next = True\n",
    "                #print(bus_list[i], j)\n",
    "            if seq_series.iloc[j] == first_seq and next == True: #This criteria excludes buses that did not traverse the full route\n",
    "                #We populate a dictionary with the index of the last stop on the route\n",
    "                route_end_dict[bus_list[i]] = j - 1\n",
    "                break \n",
    "    return route_end_dict\n",
    "\n",
    "bus_df =  df_1_day[df_1_day['label'] == '1903'] #Dataframe for bus label 1903\n",
    "route_start = bus_df.iloc[1] #start\n",
    "route_end = bus_df.iloc[route_end_index()['1903']] \n",
    "route_times_valuesf = route_times_values / timedelta(hours = 1)\n",
    "route_time = route_times_valuesf['1903']\n",
    "\n",
    "start_loc = tuple(route_start[['latitude','longitude']])\n",
    "end_loc = tuple(route_end[['latitude','longitude']])\n",
    "\n",
    "distance = haversine(start_loc, end_loc) #km\n",
    "\n",
    "route_speed = distance/route_time\n",
    "print(f\"The estimated route speed for bus 1903 was {route_speed} km/h\")"
   ]
  },
  {
   "cell_type": "code",
   "execution_count": 215,
   "id": "6820a6a5",
   "metadata": {},
   "outputs": [],
   "source": [
    "#test = df_1_day[df_1_day['label'] == '1903'][['current_stop_sequence', 'updated_at','latitude', 'longitude', 'direction_id']]\n",
    "#test.to_csv(\"test.csv\")"
   ]
  }
 ],
 "metadata": {
  "interpreter": {
   "hash": "d2a5044ecd0d50d990b529759911e7ce6ca2ff8867a220dafead3e0c6f93d690"
  },
  "kernelspec": {
   "display_name": "Python 3.6.13 ('bt_3')",
   "language": "python",
   "name": "python3"
  },
  "language_info": {
   "codemirror_mode": {
    "name": "ipython",
    "version": 3
   },
   "file_extension": ".py",
   "mimetype": "text/x-python",
   "name": "python",
   "nbconvert_exporter": "python",
   "pygments_lexer": "ipython3",
   "version": "3.6.13"
  }
 },
 "nbformat": 4,
 "nbformat_minor": 5
}
